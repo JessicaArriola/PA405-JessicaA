{
 "cells": [
  {
   "cell_type": "markdown",
   "id": "d0290bea-c9ef-421b-ab59-9eb6f3b3ed6f",
   "metadata": {},
   "source": [
    "# Project Notebook \n",
    "This notebook is going to be utilized for my midterm/final project. My project research question is, how does educational attainment impact povety levels across different demographic groups? My theory is communities that have higher educational attainment will also have higher income. Communities with lower educational attainment will have lower incomes, many in poverty levels. My theory also indicates nonwhite residents will have lower educational attainment, hence lower income. The implications of specific demographic groups having less accessibility to educational opportunities creating a devasting cycle of poverty can allow for clear recommendations in resources for fair accessibility.\n",
    "\n",
    "\n",
    "\n"
   ]
  },
  {
   "cell_type": "code",
   "execution_count": 19,
   "id": "50721e5c-d399-42a7-b526-5c82af4219ec",
   "metadata": {},
   "outputs": [],
   "source": [
    "import geopandas as gpd\n",
    "import matplotlib.pyplot as plt"
   ]
  },
  {
   "cell_type": "code",
   "execution_count": 23,
   "id": "1a31549c-f82a-4953-83a4-79ff9025c7e1",
   "metadata": {
    "collapsed": true,
    "jupyter": {
     "outputs_hidden": true
    }
   },
   "outputs": [
    {
     "name": "stdout",
     "output_type": "stream",
     "text": [
      "Requirement already satisfied: mapclassify in /opt/anaconda3/lib/python3.13/site-packages (2.10.0)\n",
      "Requirement already satisfied: networkx>=3.2 in /opt/anaconda3/lib/python3.13/site-packages (from mapclassify) (3.4.2)\n",
      "Requirement already satisfied: numpy>=1.26 in /opt/anaconda3/lib/python3.13/site-packages (from mapclassify) (2.1.3)\n",
      "Requirement already satisfied: pandas>=2.1 in /opt/anaconda3/lib/python3.13/site-packages (from mapclassify) (2.2.3)\n",
      "Requirement already satisfied: scikit-learn>=1.4 in /opt/anaconda3/lib/python3.13/site-packages (from mapclassify) (1.6.1)\n",
      "Requirement already satisfied: scipy>=1.12 in /opt/anaconda3/lib/python3.13/site-packages (from mapclassify) (1.15.3)\n",
      "Requirement already satisfied: python-dateutil>=2.8.2 in /opt/anaconda3/lib/python3.13/site-packages (from pandas>=2.1->mapclassify) (2.9.0.post0)\n",
      "Requirement already satisfied: pytz>=2020.1 in /opt/anaconda3/lib/python3.13/site-packages (from pandas>=2.1->mapclassify) (2024.1)\n",
      "Requirement already satisfied: tzdata>=2022.7 in /opt/anaconda3/lib/python3.13/site-packages (from pandas>=2.1->mapclassify) (2025.2)\n",
      "Requirement already satisfied: six>=1.5 in /opt/anaconda3/lib/python3.13/site-packages (from python-dateutil>=2.8.2->pandas>=2.1->mapclassify) (1.17.0)\n",
      "Requirement already satisfied: joblib>=1.2.0 in /opt/anaconda3/lib/python3.13/site-packages (from scikit-learn>=1.4->mapclassify) (1.4.2)\n",
      "Requirement already satisfied: threadpoolctl>=3.1.0 in /opt/anaconda3/lib/python3.13/site-packages (from scikit-learn>=1.4->mapclassify) (3.5.0)\n"
     ]
    }
   ],
   "source": [
    "!pip install mapclassify"
   ]
  },
  {
   "cell_type": "code",
   "execution_count": 21,
   "id": "e167df2e-6abd-4bc4-90e7-ca719ca2952b",
   "metadata": {},
   "outputs": [],
   "source": [
    "censustracts=gpd.read_file('LACountyTracts24.zip')"
   ]
  },
  {
   "cell_type": "code",
   "execution_count": 22,
   "id": "d9380359-f0e4-4f96-854a-0ecef170243f",
   "metadata": {
    "scrolled": true
   },
   "outputs": [
    {
     "data": {
      "text/html": [
       "<div>\n",
       "<style scoped>\n",
       "    .dataframe tbody tr th:only-of-type {\n",
       "        vertical-align: middle;\n",
       "    }\n",
       "\n",
       "    .dataframe tbody tr th {\n",
       "        vertical-align: top;\n",
       "    }\n",
       "\n",
       "    .dataframe thead th {\n",
       "        text-align: right;\n",
       "    }\n",
       "</style>\n",
       "<table border=\"1\" class=\"dataframe\">\n",
       "  <thead>\n",
       "    <tr style=\"text-align: right;\">\n",
       "      <th></th>\n",
       "      <th>ID</th>\n",
       "      <th>NAME</th>\n",
       "      <th>STATE_NAME</th>\n",
       "      <th>ST_ABBREV</th>\n",
       "      <th>AREA</th>\n",
       "      <th>TOTPOP_CY</th>\n",
       "      <th>HHPOP_CY</th>\n",
       "      <th>GQPOP_CY</th>\n",
       "      <th>POPDENS_CY</th>\n",
       "      <th>TOTHH_CY</th>\n",
       "      <th>...</th>\n",
       "      <th>NHSPWHT__1</th>\n",
       "      <th>NHSPBLK__1</th>\n",
       "      <th>NHSPAI_CY_</th>\n",
       "      <th>NHSPASN__1</th>\n",
       "      <th>NHSPPI_CY_</th>\n",
       "      <th>NHSPOTH__1</th>\n",
       "      <th>NHSPMLT__1</th>\n",
       "      <th>HSGRAD_LES</th>\n",
       "      <th>BACHDEG_PL</th>\n",
       "      <th>geometry</th>\n",
       "    </tr>\n",
       "  </thead>\n",
       "  <tbody>\n",
       "    <tr>\n",
       "      <th>0</th>\n",
       "      <td>06037262302</td>\n",
       "      <td>060372623.02</td>\n",
       "      <td>California</td>\n",
       "      <td>CA</td>\n",
       "      <td>1.182838</td>\n",
       "      <td>2782</td>\n",
       "      <td>2765</td>\n",
       "      <td>17</td>\n",
       "      <td>2352.0</td>\n",
       "      <td>1141</td>\n",
       "      <td>...</td>\n",
       "      <td>79.295471</td>\n",
       "      <td>1.042416</td>\n",
       "      <td>0.000000</td>\n",
       "      <td>6.506111</td>\n",
       "      <td>0.000000</td>\n",
       "      <td>1.006470</td>\n",
       "      <td>5.140187</td>\n",
       "      <td>0.824043</td>\n",
       "      <td>83.131362</td>\n",
       "      <td>POLYGON ((-13187629.788 4038588.873, -13187642...</td>\n",
       "    </tr>\n",
       "    <tr>\n",
       "      <th>1</th>\n",
       "      <td>06037206201</td>\n",
       "      <td>060372062.01</td>\n",
       "      <td>California</td>\n",
       "      <td>CA</td>\n",
       "      <td>0.077543</td>\n",
       "      <td>2863</td>\n",
       "      <td>2202</td>\n",
       "      <td>661</td>\n",
       "      <td>36941.9</td>\n",
       "      <td>1262</td>\n",
       "      <td>...</td>\n",
       "      <td>20.852253</td>\n",
       "      <td>16.590988</td>\n",
       "      <td>1.012924</td>\n",
       "      <td>28.815927</td>\n",
       "      <td>0.419141</td>\n",
       "      <td>0.838282</td>\n",
       "      <td>4.680405</td>\n",
       "      <td>9.677419</td>\n",
       "      <td>45.822994</td>\n",
       "      <td>POLYGON ((-13162511.881 4035572.196, -13162582...</td>\n",
       "    </tr>\n",
       "    <tr>\n",
       "      <th>2</th>\n",
       "      <td>06037128102</td>\n",
       "      <td>060371281.02</td>\n",
       "      <td>California</td>\n",
       "      <td>CA</td>\n",
       "      <td>0.250507</td>\n",
       "      <td>4755</td>\n",
       "      <td>4521</td>\n",
       "      <td>234</td>\n",
       "      <td>18982.0</td>\n",
       "      <td>1479</td>\n",
       "      <td>...</td>\n",
       "      <td>18.401682</td>\n",
       "      <td>5.005258</td>\n",
       "      <td>0.042061</td>\n",
       "      <td>5.615142</td>\n",
       "      <td>0.147213</td>\n",
       "      <td>0.672976</td>\n",
       "      <td>1.451104</td>\n",
       "      <td>25.774135</td>\n",
       "      <td>17.941712</td>\n",
       "      <td>POLYGON ((-13184678.486 4053894.2, -13184921.4...</td>\n",
       "    </tr>\n",
       "    <tr>\n",
       "      <th>3</th>\n",
       "      <td>06037131701</td>\n",
       "      <td>060371317.01</td>\n",
       "      <td>California</td>\n",
       "      <td>CA</td>\n",
       "      <td>0.254699</td>\n",
       "      <td>4591</td>\n",
       "      <td>4575</td>\n",
       "      <td>16</td>\n",
       "      <td>18025.1</td>\n",
       "      <td>1741</td>\n",
       "      <td>...</td>\n",
       "      <td>23.175779</td>\n",
       "      <td>5.968199</td>\n",
       "      <td>0.174254</td>\n",
       "      <td>21.367894</td>\n",
       "      <td>0.043563</td>\n",
       "      <td>0.588107</td>\n",
       "      <td>3.724679</td>\n",
       "      <td>17.841079</td>\n",
       "      <td>34.002999</td>\n",
       "      <td>POLYGON ((-13197317.144 4055820.492, -13197556...</td>\n",
       "    </tr>\n",
       "    <tr>\n",
       "      <th>4</th>\n",
       "      <td>06037232800</td>\n",
       "      <td>060372328.00</td>\n",
       "      <td>California</td>\n",
       "      <td>CA</td>\n",
       "      <td>0.164729</td>\n",
       "      <td>3927</td>\n",
       "      <td>3858</td>\n",
       "      <td>69</td>\n",
       "      <td>23843.4</td>\n",
       "      <td>968</td>\n",
       "      <td>...</td>\n",
       "      <td>0.993125</td>\n",
       "      <td>12.554113</td>\n",
       "      <td>0.254647</td>\n",
       "      <td>0.611154</td>\n",
       "      <td>0.000000</td>\n",
       "      <td>0.891266</td>\n",
       "      <td>1.120448</td>\n",
       "      <td>43.775763</td>\n",
       "      <td>10.634790</td>\n",
       "      <td>POLYGON ((-13166681.241 4028231.101, -13166681...</td>\n",
       "    </tr>\n",
       "  </tbody>\n",
       "</table>\n",
       "<p>5 rows × 206 columns</p>\n",
       "</div>"
      ],
      "text/plain": [
       "            ID          NAME  STATE_NAME ST_ABBREV      AREA  TOTPOP_CY  \\\n",
       "0  06037262302  060372623.02  California        CA  1.182838       2782   \n",
       "1  06037206201  060372062.01  California        CA  0.077543       2863   \n",
       "2  06037128102  060371281.02  California        CA  0.250507       4755   \n",
       "3  06037131701  060371317.01  California        CA  0.254699       4591   \n",
       "4  06037232800  060372328.00  California        CA  0.164729       3927   \n",
       "\n",
       "   HHPOP_CY  GQPOP_CY  POPDENS_CY  TOTHH_CY  ...  NHSPWHT__1  NHSPBLK__1  \\\n",
       "0      2765        17      2352.0      1141  ...   79.295471    1.042416   \n",
       "1      2202       661     36941.9      1262  ...   20.852253   16.590988   \n",
       "2      4521       234     18982.0      1479  ...   18.401682    5.005258   \n",
       "3      4575        16     18025.1      1741  ...   23.175779    5.968199   \n",
       "4      3858        69     23843.4       968  ...    0.993125   12.554113   \n",
       "\n",
       "   NHSPAI_CY_  NHSPASN__1  NHSPPI_CY_  NHSPOTH__1  NHSPMLT__1  HSGRAD_LES  \\\n",
       "0    0.000000    6.506111    0.000000    1.006470    5.140187    0.824043   \n",
       "1    1.012924   28.815927    0.419141    0.838282    4.680405    9.677419   \n",
       "2    0.042061    5.615142    0.147213    0.672976    1.451104   25.774135   \n",
       "3    0.174254   21.367894    0.043563    0.588107    3.724679   17.841079   \n",
       "4    0.254647    0.611154    0.000000    0.891266    1.120448   43.775763   \n",
       "\n",
       "   BACHDEG_PL                                           geometry  \n",
       "0   83.131362  POLYGON ((-13187629.788 4038588.873, -13187642...  \n",
       "1   45.822994  POLYGON ((-13162511.881 4035572.196, -13162582...  \n",
       "2   17.941712  POLYGON ((-13184678.486 4053894.2, -13184921.4...  \n",
       "3   34.002999  POLYGON ((-13197317.144 4055820.492, -13197556...  \n",
       "4   10.634790  POLYGON ((-13166681.241 4028231.101, -13166681...  \n",
       "\n",
       "[5 rows x 206 columns]"
      ]
     },
     "execution_count": 22,
     "metadata": {},
     "output_type": "execute_result"
    }
   ],
   "source": [
    "censustracts.head()"
   ]
  },
  {
   "cell_type": "code",
   "execution_count": 24,
   "id": "ac39299c-7a41-4add-b70f-8162ac1bd432",
   "metadata": {},
   "outputs": [],
   "source": [
    "# columns to keep \n",
    "columns_to_keep = ['ID','HISPPOP_CY', 'NHSPWHT_CY', 'NHSPBLK_CY', 'NHSPAI_CY', 'NHSPASN_CY', 'DIVINDX_CY', 'NOHS_CY','SOMEHS_CY', 'HSGRAD_CY', 'GED_CY', 'SMCOLL_CY', 'ASSCDEG_CY', 'BACHDEG_CY', 'GRADDEG_CY', 'EDUCBASECY', 'HINC0_CY', 'HINC15_CY', 'HINC25_CY', 'HINC35_CY', 'HINC50_CY', 'HINC75_CY', 'HINC100_CY', 'HINC150_CY', 'HINC200_CY','geometry']"
   ]
  },
  {
   "cell_type": "code",
   "execution_count": 26,
   "id": "8accddd5-63fc-494a-9b03-e7a2bd632b79",
   "metadata": {},
   "outputs": [],
   "source": [
    "# creating a new dataframe with the columns i want to keep \n",
    "tractsCleaned = censustracts[columns_to_keep]"
   ]
  },
  {
   "cell_type": "code",
   "execution_count": 28,
   "id": "384026f0-43fa-4534-83f1-8ab69e0efd7d",
   "metadata": {},
   "outputs": [
    {
     "ename": "SyntaxError",
     "evalue": "invalid character '’' (U+2019) (2677629162.py, line 1)",
     "output_type": "error",
     "traceback": [
      "\u001b[0;36m  Cell \u001b[0;32mIn[28], line 1\u001b[0;36m\u001b[0m\n\u001b[0;31m    tractsCleaned.columns = ['FIPS,'HIS', WHITE’, 'BLACK','AMERICAN INDIAN', 'ASIAN', 'DIVERSITY’,'NOHS','SOMEHS', 'HSGRAD', 'GED', 'SOMECOLL', 'ASSDEG’,'BACH','GRAD','EDUCBASE', 'LESS15', '15-24', '25-34', '35-49', '50-74', '75-99', '100-149’, '150-199', '200MORE','geometry']\u001b[0m\n\u001b[0m                                                                                                ^\u001b[0m\n\u001b[0;31mSyntaxError\u001b[0m\u001b[0;31m:\u001b[0m invalid character '’' (U+2019)\n"
     ]
    }
   ],
   "source": [
    "tractsCleaned.columns = ['FIPS,'HIS', WHITE’, 'BLACK','AMERICAN INDIAN', 'ASIAN', 'DIVERSITY’,'NOHS','SOMEHS', 'HSGRAD', 'GED', 'SOMECOLL', 'ASSDEG’,'BACH','GRAD','EDUCBASE', 'LESS15', '15-24', '25-34', '35-49', '50-74', '75-99', '100-149’, '150-199', '200MORE','geometry']"
   ]
  },
  {
   "cell_type": "code",
   "execution_count": null,
   "id": "0b2fc964-bc42-4611-b813-95ae0cc8311e",
   "metadata": {},
   "outputs": [],
   "source": []
  }
 ],
 "metadata": {
  "kernelspec": {
   "display_name": "Python [conda env:base] *",
   "language": "python",
   "name": "conda-base-py"
  },
  "language_info": {
   "codemirror_mode": {
    "name": "ipython",
    "version": 3
   },
   "file_extension": ".py",
   "mimetype": "text/x-python",
   "name": "python",
   "nbconvert_exporter": "python",
   "pygments_lexer": "ipython3",
   "version": "3.13.5"
  }
 },
 "nbformat": 4,
 "nbformat_minor": 5
}
