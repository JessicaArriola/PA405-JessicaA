{
 "cells": [
  {
   "cell_type": "markdown",
   "id": "4cc1f7c1-c3c2-4456-ab83-6a0f3d774358",
   "metadata": {},
   "source": [
    "# data set #2 \n",
    "\n"
   ]
  },
  {
   "cell_type": "code",
   "execution_count": 1,
   "id": "8c7412e3-31ae-4b11-a8d0-f080e105f41c",
   "metadata": {},
   "outputs": [],
   "source": [
    "import geopandas as gpd"
   ]
  },
  {
   "cell_type": "code",
   "execution_count": 2,
   "id": "800bd493-938e-4a85-8036-45831361b51b",
   "metadata": {},
   "outputs": [],
   "source": [
    "import pandas as pd "
   ]
  },
  {
   "cell_type": "code",
   "execution_count": 3,
   "id": "b3774e05-23c7-4e50-bfe5-4c81945e79a0",
   "metadata": {},
   "outputs": [],
   "source": [
    "censusdems = gpd.read_file('censusdata.csv')"
   ]
  },
  {
   "cell_type": "code",
   "execution_count": null,
   "id": "d6aa040d-1e5d-4838-b2ab-a76811f82fbc",
   "metadata": {},
   "outputs": [],
   "source": []
  }
 ],
 "metadata": {
  "kernelspec": {
   "display_name": "Python [conda env:base] *",
   "language": "python",
   "name": "conda-base-py"
  },
  "language_info": {
   "codemirror_mode": {
    "name": "ipython",
    "version": 3
   },
   "file_extension": ".py",
   "mimetype": "text/x-python",
   "name": "python",
   "nbconvert_exporter": "python",
   "pygments_lexer": "ipython3",
   "version": "3.13.5"
  }
 },
 "nbformat": 4,
 "nbformat_minor": 5
}
