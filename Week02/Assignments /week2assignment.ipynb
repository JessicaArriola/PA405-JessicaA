{
 "cells": [
  {
   "cell_type": "markdown",
   "id": "18e7c552-2b57-40c8-be09-7273f4dbbbd1",
   "metadata": {},
   "source": [
    "# Assignment 1, Week 2 \n",
    "Importing data file to complete Spacial Data Exploration. My project is conducting analysis on the relationship between educational attainment and poverty levels in Los Angeles County. I am interested in this, and can provide insight on possible projects to lessen poverty levels. \n"
   ]
  },
  {
   "cell_type": "code",
   "execution_count": 3,
   "id": "81576c90-b54b-470e-894d-9d2c85787962",
   "metadata": {},
   "outputs": [],
   "source": [
    "# importing libraries for assignment 1, week 2 \n",
    "import pandas as pd "
   ]
  },
  {
   "cell_type": "code",
   "execution_count": 57,
   "id": "06cfee63-2804-4308-8aba-d5b60a0ddd24",
   "metadata": {},
   "outputs": [],
   "source": [
    "# importing csv file \n",
    "povertylevels = pd.read_csv('Data/belowpovertytract.csv')  "
   ]
  },
  {
   "cell_type": "code",
   "execution_count": 58,
   "id": "a52f3955-cb0c-4cbb-abc1-6bdfa914eb2a",
   "metadata": {},
   "outputs": [
    {
     "data": {
      "text/plain": [
       "pandas.core.frame.DataFrame"
      ]
     },
     "execution_count": 58,
     "metadata": {},
     "output_type": "execute_result"
    }
   ],
   "source": [
    "# data type\n",
    "type(povertylevels)"
   ]
  },
  {
   "cell_type": "code",
   "execution_count": 59,
   "id": "7bd3d7f4-8d12-4447-90fb-5682de770091",
   "metadata": {},
   "outputs": [
    {
     "data": {
      "text/html": [
       "<div>\n",
       "<style scoped>\n",
       "    .dataframe tbody tr th:only-of-type {\n",
       "        vertical-align: middle;\n",
       "    }\n",
       "\n",
       "    .dataframe tbody tr th {\n",
       "        vertical-align: top;\n",
       "    }\n",
       "\n",
       "    .dataframe thead th {\n",
       "        text-align: right;\n",
       "    }\n",
       "</style>\n",
       "<table border=\"1\" class=\"dataframe\">\n",
       "  <thead>\n",
       "    <tr style=\"text-align: right;\">\n",
       "      <th></th>\n",
       "      <th>tract</th>\n",
       "      <th>below_fpl</th>\n",
       "      <th>below_200fpl</th>\n",
       "      <th>fpl_universe</th>\n",
       "      <th>below_fpl_pct</th>\n",
       "      <th>below_200fpl_pct</th>\n",
       "      <th>sup_dist</th>\n",
       "      <th>csa</th>\n",
       "      <th>spa</th>\n",
       "      <th>ESRI_OID</th>\n",
       "      <th>Shape__Area</th>\n",
       "      <th>Shape__Length</th>\n",
       "    </tr>\n",
       "  </thead>\n",
       "  <tbody>\n",
       "    <tr>\n",
       "      <th>0</th>\n",
       "      <td>6037101110</td>\n",
       "      <td>476</td>\n",
       "      <td>887</td>\n",
       "      <td>4068</td>\n",
       "      <td>11.7</td>\n",
       "      <td>21.8</td>\n",
       "      <td>District 5</td>\n",
       "      <td>Los Angeles - Tujunga</td>\n",
       "      <td>SPA 2 - San Fernando</td>\n",
       "      <td>7337</td>\n",
       "      <td>1.232981e+07</td>\n",
       "      <td>14765.649004</td>\n",
       "    </tr>\n",
       "    <tr>\n",
       "      <th>1</th>\n",
       "      <td>6037101122</td>\n",
       "      <td>266</td>\n",
       "      <td>590</td>\n",
       "      <td>4166</td>\n",
       "      <td>6.4</td>\n",
       "      <td>14.2</td>\n",
       "      <td>District 5</td>\n",
       "      <td>Los Angeles - Tujunga</td>\n",
       "      <td>SPA 2 - San Fernando</td>\n",
       "      <td>7338</td>\n",
       "      <td>2.908866e+07</td>\n",
       "      <td>30028.213771</td>\n",
       "    </tr>\n",
       "    <tr>\n",
       "      <th>2</th>\n",
       "      <td>6037101220</td>\n",
       "      <td>610</td>\n",
       "      <td>894</td>\n",
       "      <td>3434</td>\n",
       "      <td>17.8</td>\n",
       "      <td>26.0</td>\n",
       "      <td>District 5</td>\n",
       "      <td>Los Angeles - Tujunga</td>\n",
       "      <td>SPA 2 - San Fernando</td>\n",
       "      <td>7339</td>\n",
       "      <td>7.532651e+06</td>\n",
       "      <td>12504.552130</td>\n",
       "    </tr>\n",
       "    <tr>\n",
       "      <th>3</th>\n",
       "      <td>6037101221</td>\n",
       "      <td>555</td>\n",
       "      <td>1351</td>\n",
       "      <td>3881</td>\n",
       "      <td>14.3</td>\n",
       "      <td>34.8</td>\n",
       "      <td>District 5</td>\n",
       "      <td>Los Angeles - Tujunga</td>\n",
       "      <td>SPA 2 - San Fernando</td>\n",
       "      <td>7340</td>\n",
       "      <td>3.874399e+06</td>\n",
       "      <td>8938.421349</td>\n",
       "    </tr>\n",
       "    <tr>\n",
       "      <th>4</th>\n",
       "      <td>6037101222</td>\n",
       "      <td>356</td>\n",
       "      <td>942</td>\n",
       "      <td>2564</td>\n",
       "      <td>13.9</td>\n",
       "      <td>36.7</td>\n",
       "      <td>District 5</td>\n",
       "      <td>Los Angeles - Tujunga</td>\n",
       "      <td>SPA 2 - San Fernando</td>\n",
       "      <td>7341</td>\n",
       "      <td>3.090538e+06</td>\n",
       "      <td>9750.960420</td>\n",
       "    </tr>\n",
       "  </tbody>\n",
       "</table>\n",
       "</div>"
      ],
      "text/plain": [
       "        tract  below_fpl  below_200fpl  fpl_universe  below_fpl_pct  \\\n",
       "0  6037101110        476           887          4068           11.7   \n",
       "1  6037101122        266           590          4166            6.4   \n",
       "2  6037101220        610           894          3434           17.8   \n",
       "3  6037101221        555          1351          3881           14.3   \n",
       "4  6037101222        356           942          2564           13.9   \n",
       "\n",
       "   below_200fpl_pct    sup_dist                    csa                   spa  \\\n",
       "0              21.8  District 5  Los Angeles - Tujunga  SPA 2 - San Fernando   \n",
       "1              14.2  District 5  Los Angeles - Tujunga  SPA 2 - San Fernando   \n",
       "2              26.0  District 5  Los Angeles - Tujunga  SPA 2 - San Fernando   \n",
       "3              34.8  District 5  Los Angeles - Tujunga  SPA 2 - San Fernando   \n",
       "4              36.7  District 5  Los Angeles - Tujunga  SPA 2 - San Fernando   \n",
       "\n",
       "   ESRI_OID   Shape__Area  Shape__Length  \n",
       "0      7337  1.232981e+07   14765.649004  \n",
       "1      7338  2.908866e+07   30028.213771  \n",
       "2      7339  7.532651e+06   12504.552130  \n",
       "3      7340  3.874399e+06    8938.421349  \n",
       "4      7341  3.090538e+06    9750.960420  "
      ]
     },
     "execution_count": 59,
     "metadata": {},
     "output_type": "execute_result"
    }
   ],
   "source": [
    "# what does the data look like? \n",
    "povertylevels.head()"
   ]
  },
  {
   "cell_type": "code",
   "execution_count": 61,
   "id": "6fe3218a-9642-49f5-896d-72c195d40015",
   "metadata": {},
   "outputs": [
    {
     "data": {
      "text/html": [
       "<div>\n",
       "<style scoped>\n",
       "    .dataframe tbody tr th:only-of-type {\n",
       "        vertical-align: middle;\n",
       "    }\n",
       "\n",
       "    .dataframe tbody tr th {\n",
       "        vertical-align: top;\n",
       "    }\n",
       "\n",
       "    .dataframe thead th {\n",
       "        text-align: right;\n",
       "    }\n",
       "</style>\n",
       "<table border=\"1\" class=\"dataframe\">\n",
       "  <thead>\n",
       "    <tr style=\"text-align: right;\">\n",
       "      <th></th>\n",
       "      <th>tract</th>\n",
       "      <th>below_fpl</th>\n",
       "      <th>below_200fpl</th>\n",
       "      <th>fpl_universe</th>\n",
       "      <th>below_fpl_pct</th>\n",
       "      <th>below_200fpl_pct</th>\n",
       "      <th>sup_dist</th>\n",
       "      <th>csa</th>\n",
       "      <th>spa</th>\n",
       "      <th>ESRI_OID</th>\n",
       "      <th>Shape__Area</th>\n",
       "      <th>Shape__Length</th>\n",
       "    </tr>\n",
       "  </thead>\n",
       "  <tbody>\n",
       "    <tr>\n",
       "      <th>2490</th>\n",
       "      <td>6037980035</td>\n",
       "      <td>17</td>\n",
       "      <td>258</td>\n",
       "      <td>574</td>\n",
       "      <td>3.0</td>\n",
       "      <td>44.9</td>\n",
       "      <td>District 1</td>\n",
       "      <td>City of Industry</td>\n",
       "      <td>SPA 3 - San Gabriel</td>\n",
       "      <td>9827</td>\n",
       "      <td>1.715306e+08</td>\n",
       "      <td>105850.878716</td>\n",
       "    </tr>\n",
       "    <tr>\n",
       "      <th>2491</th>\n",
       "      <td>6037980036</td>\n",
       "      <td>39</td>\n",
       "      <td>67</td>\n",
       "      <td>606</td>\n",
       "      <td>6.4</td>\n",
       "      <td>11.1</td>\n",
       "      <td>District 1</td>\n",
       "      <td>Unincorporated - Whittier Narrows</td>\n",
       "      <td>SPA 3 - San Gabriel</td>\n",
       "      <td>9828</td>\n",
       "      <td>9.410894e+07</td>\n",
       "      <td>63183.082619</td>\n",
       "    </tr>\n",
       "    <tr>\n",
       "      <th>2492</th>\n",
       "      <td>6037980037</td>\n",
       "      <td>0</td>\n",
       "      <td>0</td>\n",
       "      <td>0</td>\n",
       "      <td>NaN</td>\n",
       "      <td>0.0</td>\n",
       "      <td>District 2</td>\n",
       "      <td>City of Carson</td>\n",
       "      <td>SPA 8 - South Bay</td>\n",
       "      <td>9829</td>\n",
       "      <td>1.376446e+07</td>\n",
       "      <td>14866.138291</td>\n",
       "    </tr>\n",
       "    <tr>\n",
       "      <th>2493</th>\n",
       "      <td>6037980038</td>\n",
       "      <td>0</td>\n",
       "      <td>0</td>\n",
       "      <td>0</td>\n",
       "      <td>NaN</td>\n",
       "      <td>0.0</td>\n",
       "      <td>District 2</td>\n",
       "      <td>Unincorporated - Ladera Heights</td>\n",
       "      <td>SPA 5 - West</td>\n",
       "      <td>9830</td>\n",
       "      <td>4.852656e+07</td>\n",
       "      <td>42566.840167</td>\n",
       "    </tr>\n",
       "    <tr>\n",
       "      <th>2494</th>\n",
       "      <td>6037980039</td>\n",
       "      <td>0</td>\n",
       "      <td>0</td>\n",
       "      <td>0</td>\n",
       "      <td>NaN</td>\n",
       "      <td>0.0</td>\n",
       "      <td>District 5</td>\n",
       "      <td>Unincorporated - Universal City</td>\n",
       "      <td>SPA 2 - San Fernando</td>\n",
       "      <td>9831</td>\n",
       "      <td>1.464017e+07</td>\n",
       "      <td>17601.678331</td>\n",
       "    </tr>\n",
       "  </tbody>\n",
       "</table>\n",
       "</div>"
      ],
      "text/plain": [
       "           tract  below_fpl  below_200fpl  fpl_universe  below_fpl_pct  \\\n",
       "2490  6037980035         17           258           574            3.0   \n",
       "2491  6037980036         39            67           606            6.4   \n",
       "2492  6037980037          0             0             0            NaN   \n",
       "2493  6037980038          0             0             0            NaN   \n",
       "2494  6037980039          0             0             0            NaN   \n",
       "\n",
       "      below_200fpl_pct    sup_dist                                csa  \\\n",
       "2490              44.9  District 1                   City of Industry   \n",
       "2491              11.1  District 1  Unincorporated - Whittier Narrows   \n",
       "2492               0.0  District 2                     City of Carson   \n",
       "2493               0.0  District 2    Unincorporated - Ladera Heights   \n",
       "2494               0.0  District 5    Unincorporated - Universal City   \n",
       "\n",
       "                       spa  ESRI_OID   Shape__Area  Shape__Length  \n",
       "2490   SPA 3 - San Gabriel      9827  1.715306e+08  105850.878716  \n",
       "2491   SPA 3 - San Gabriel      9828  9.410894e+07   63183.082619  \n",
       "2492     SPA 8 - South Bay      9829  1.376446e+07   14866.138291  \n",
       "2493          SPA 5 - West      9830  4.852656e+07   42566.840167  \n",
       "2494  SPA 2 - San Fernando      9831  1.464017e+07   17601.678331  "
      ]
     },
     "execution_count": 61,
     "metadata": {},
     "output_type": "execute_result"
    }
   ],
   "source": [
    "# try tail()\n",
    "povertylevels.tail()"
   ]
  },
  {
   "cell_type": "code",
   "execution_count": 62,
   "id": "bfa4fb0e-0246-459c-8c7e-1ba3bae73953",
   "metadata": {},
   "outputs": [
    {
     "data": {
      "text/plain": [
       "tract                 int64\n",
       "below_fpl             int64\n",
       "below_200fpl          int64\n",
       "fpl_universe          int64\n",
       "below_fpl_pct       float64\n",
       "below_200fpl_pct    float64\n",
       "sup_dist             object\n",
       "csa                  object\n",
       "spa                  object\n",
       "ESRI_OID              int64\n",
       "Shape__Area         float64\n",
       "Shape__Length       float64\n",
       "dtype: object"
      ]
     },
     "execution_count": 62,
     "metadata": {},
     "output_type": "execute_result"
    }
   ],
   "source": [
    "povertylevels.dtypes"
   ]
  },
  {
   "cell_type": "code",
   "execution_count": 63,
   "id": "f82628d1-9fa7-4a8b-9899-6cee52764ff1",
   "metadata": {},
   "outputs": [
    {
     "name": "stdout",
     "output_type": "stream",
     "text": [
      "<class 'pandas.core.frame.DataFrame'>\n",
      "RangeIndex: 2495 entries, 0 to 2494\n",
      "Data columns (total 12 columns):\n",
      " #   Column            Non-Null Count  Dtype  \n",
      "---  ------            --------------  -----  \n",
      " 0   tract             2495 non-null   int64  \n",
      " 1   below_fpl         2495 non-null   int64  \n",
      " 2   below_200fpl      2495 non-null   int64  \n",
      " 3   fpl_universe      2495 non-null   int64  \n",
      " 4   below_fpl_pct     2471 non-null   float64\n",
      " 5   below_200fpl_pct  2495 non-null   float64\n",
      " 6   sup_dist          2495 non-null   object \n",
      " 7   csa               2495 non-null   object \n",
      " 8   spa               2495 non-null   object \n",
      " 9   ESRI_OID          2495 non-null   int64  \n",
      " 10  Shape__Area       2495 non-null   float64\n",
      " 11  Shape__Length     2495 non-null   float64\n",
      "dtypes: float64(4), int64(5), object(3)\n",
      "memory usage: 234.0+ KB\n"
     ]
    }
   ],
   "source": [
    "# dataframe info\n",
    "povertylevels.info()"
   ]
  },
  {
   "cell_type": "code",
   "execution_count": 64,
   "id": "c0feebd6-b290-4721-83be-2965f44fef13",
   "metadata": {},
   "outputs": [
    {
     "data": {
      "text/plain": [
       "(2495, 12)"
      ]
     },
     "execution_count": 64,
     "metadata": {},
     "output_type": "execute_result"
    }
   ],
   "source": [
    "# how many rows and columns?\n",
    "povertylevels.shape"
   ]
  },
  {
   "cell_type": "code",
   "execution_count": 65,
   "id": "cf6bb349-1b04-4da2-ba99-60ae987e399b",
   "metadata": {},
   "outputs": [
    {
     "data": {
      "text/plain": [
       "['tract',\n",
       " 'below_fpl',\n",
       " 'below_200fpl',\n",
       " 'fpl_universe',\n",
       " 'below_fpl_pct',\n",
       " 'below_200fpl_pct',\n",
       " 'sup_dist',\n",
       " 'csa',\n",
       " 'spa',\n",
       " 'ESRI_OID',\n",
       " 'Shape__Area',\n",
       " 'Shape__Length']"
      ]
     },
     "execution_count": 65,
     "metadata": {},
     "output_type": "execute_result"
    }
   ],
   "source": [
    "# what are the columns?\n",
    "povertylevels.columns.to_list()"
   ]
  },
  {
   "cell_type": "code",
   "execution_count": 67,
   "id": "f9c26540-e069-42c1-a1f5-2db8dd0d8dfd",
   "metadata": {},
   "outputs": [
    {
     "data": {
      "text/plain": [
       "1492    322\n",
       "219     381\n",
       "1554    238\n",
       "1154    215\n",
       "789     837\n",
       "Name: below_fpl, dtype: int64"
      ]
     },
     "execution_count": 67,
     "metadata": {},
     "output_type": "execute_result"
    }
   ],
   "source": [
    "# single column\n",
    "povertylevels['below_fpl'].sample(5)"
   ]
  },
  {
   "cell_type": "code",
   "execution_count": 68,
   "id": "d0f3b403-11d1-4e60-b89b-b844e5d91a31",
   "metadata": {},
   "outputs": [
    {
     "data": {
      "text/plain": [
       "588     1891\n",
       "609     1226\n",
       "329     1004\n",
       "1383    1631\n",
       "1726    2265\n",
       "Name: below_200fpl, dtype: int64"
      ]
     },
     "execution_count": 68,
     "metadata": {},
     "output_type": "execute_result"
    }
   ],
   "source": [
    "# single column\n",
    "povertylevels['below_200fpl'].sample(5)"
   ]
  },
  {
   "cell_type": "code",
   "execution_count": 69,
   "id": "c269599f-5fdf-43a5-9e65-383995cc361f",
   "metadata": {},
   "outputs": [
    {
     "data": {
      "text/plain": [
       "944     District 3\n",
       "2241    District 3\n",
       "169     District 5\n",
       "1345    District 1\n",
       "43      District 3\n",
       "Name: sup_dist, dtype: object"
      ]
     },
     "execution_count": 69,
     "metadata": {},
     "output_type": "execute_result"
    }
   ],
   "source": [
    "# single column\n",
    "povertylevels['sup_dist'].sample(5)"
   ]
  },
  {
   "cell_type": "code",
   "execution_count": 71,
   "id": "6af01924-99a3-4449-812e-8e12d2ded475",
   "metadata": {},
   "outputs": [
    {
     "data": {
      "text/plain": [
       "473     3585\n",
       "2309    7910\n",
       "1992    1505\n",
       "135     3001\n",
       "217     2847\n",
       "Name: fpl_universe, dtype: int64"
      ]
     },
     "execution_count": 71,
     "metadata": {},
     "output_type": "execute_result"
    }
   ],
   "source": [
    "povertylevels['fpl_universe'].sample(5)"
   ]
  },
  {
   "cell_type": "code",
   "execution_count": 74,
   "id": "3caee3f8-d8c9-4aab-a190-4cbe2fa4be03",
   "metadata": {},
   "outputs": [
    {
     "data": {
      "text/plain": [
       "below_fpl\n",
       "0       28\n",
       "215     11\n",
       "294      9\n",
       "332      9\n",
       "501      8\n",
       "        ..\n",
       "1067     1\n",
       "984      1\n",
       "919      1\n",
       "114      1\n",
       "39       1\n",
       "Name: count, Length: 1084, dtype: int64"
      ]
     },
     "execution_count": 74,
     "metadata": {},
     "output_type": "execute_result"
    }
   ],
   "source": [
    "povertylevels['below_fpl'].value_counts()"
   ]
  },
  {
   "cell_type": "code",
   "execution_count": 75,
   "id": "bdfcd4ed-1d97-4f17-a5aa-f5b5057fa76f",
   "metadata": {},
   "outputs": [
    {
     "data": {
      "text/plain": [
       "below_200fpl\n",
       "0       27\n",
       "604      6\n",
       "636      6\n",
       "746      6\n",
       "1493     5\n",
       "        ..\n",
       "1076     1\n",
       "1570     1\n",
       "573      1\n",
       "291      1\n",
       "67       1\n",
       "Name: count, Length: 1559, dtype: int64"
      ]
     },
     "execution_count": 75,
     "metadata": {},
     "output_type": "execute_result"
    }
   ],
   "source": [
    "povertylevels['below_200fpl'].value_counts()"
   ]
  },
  {
   "cell_type": "code",
   "execution_count": 76,
   "id": "3d55033b-6bd6-47de-bce6-81258852b27b",
   "metadata": {},
   "outputs": [
    {
     "data": {
      "text/plain": [
       "fpl_universe\n",
       "0       24\n",
       "2866     5\n",
       "2047     4\n",
       "4087     4\n",
       "4596     4\n",
       "        ..\n",
       "3803     1\n",
       "3598     1\n",
       "2483     1\n",
       "6429     1\n",
       "606      1\n",
       "Name: count, Length: 1921, dtype: int64"
      ]
     },
     "execution_count": 76,
     "metadata": {},
     "output_type": "execute_result"
    }
   ],
   "source": [
    "povertylevels['fpl_universe'].value_counts()"
   ]
  },
  {
   "cell_type": "code",
   "execution_count": 77,
   "id": "06f95db5-3d68-4630-94b6-4d7555ae4213",
   "metadata": {},
   "outputs": [
    {
     "data": {
      "text/plain": [
       "below_fpl_pct\n",
       "8.8     23\n",
       "8.9     23\n",
       "5.4     22\n",
       "6.4     21\n",
       "5.6     19\n",
       "        ..\n",
       "35.1     1\n",
       "32.1     1\n",
       "38.6     1\n",
       "26.6     1\n",
       "54.5     1\n",
       "Name: count, Length: 395, dtype: int64"
      ]
     },
     "execution_count": 77,
     "metadata": {},
     "output_type": "execute_result"
    }
   ],
   "source": [
    "povertylevels['below_fpl_pct'].value_counts()"
   ]
  },
  {
   "cell_type": "code",
   "execution_count": 80,
   "id": "b2e7779f-632f-41f2-8317-1aab5ad1ef90",
   "metadata": {},
   "outputs": [
    {
     "data": {
      "text/plain": [
       "below_200fpl_pct\n",
       "0.0     27\n",
       "22.2    13\n",
       "25.3    12\n",
       "32.7    11\n",
       "20.9    11\n",
       "        ..\n",
       "89.3     1\n",
       "88.4     1\n",
       "95.0     1\n",
       "68.3     1\n",
       "90.7     1\n",
       "Name: count, Length: 652, dtype: int64"
      ]
     },
     "execution_count": 80,
     "metadata": {},
     "output_type": "execute_result"
    }
   ],
   "source": [
    "povertylevels['below_200fpl_pct'].value_counts()"
   ]
  },
  {
   "cell_type": "code",
   "execution_count": 81,
   "id": "dce8e0a2-6565-4dc7-af35-465f5254e173",
   "metadata": {},
   "outputs": [
    {
     "data": {
      "text/plain": [
       "sup_dist\n",
       "District 3    557\n",
       "District 2    506\n",
       "District 1    497\n",
       "District 4    487\n",
       "District 5    448\n",
       "Name: count, dtype: int64"
      ]
     },
     "execution_count": 81,
     "metadata": {},
     "output_type": "execute_result"
    }
   ],
   "source": [
    "povertylevels['sup_dist'].value_counts()"
   ]
  },
  {
   "cell_type": "code",
   "execution_count": 82,
   "id": "a9988e34-d48f-462d-bc14-de76d0e9260e",
   "metadata": {},
   "outputs": [
    {
     "data": {
      "text/plain": [
       "csa\n",
       "City of Long Beach                                 113\n",
       "City of Santa Clarita                               47\n",
       "City of Glendale                                    42\n",
       "City of Lancaster                                   39\n",
       "Los Angeles - North Hollywood                       39\n",
       "                                                  ... \n",
       "Unincorporated - Rosewood/West Rancho Dominguez      1\n",
       "Los Angeles - St Elmo Village                        1\n",
       "Unincorporated - East La Mirada                      1\n",
       "Unincorporated - East Whittier                       1\n",
       "Unincorporated - Universal City                      1\n",
       "Name: count, Length: 300, dtype: int64"
      ]
     },
     "execution_count": 82,
     "metadata": {},
     "output_type": "execute_result"
    }
   ],
   "source": [
    "povertylevels['csa'].value_counts()"
   ]
  },
  {
   "cell_type": "code",
   "execution_count": 83,
   "id": "79595808-4496-407b-8476-13814521c283",
   "metadata": {},
   "outputs": [
    {
     "data": {
      "text/plain": [
       "spa\n",
       "SPA 2 - San Fernando       558\n",
       "SPA 3 - San Gabriel        392\n",
       "SPA 8 - South Bay          380\n",
       "SPA 4 - Metro              352\n",
       "SPA 7 - East               290\n",
       "SPA 6 - South              245\n",
       "SPA 5 - West               185\n",
       "SPA 1 - Antelope Valley     93\n",
       "Name: count, dtype: int64"
      ]
     },
     "execution_count": 83,
     "metadata": {},
     "output_type": "execute_result"
    }
   ],
   "source": [
    "povertylevels['spa'].value_counts()"
   ]
  },
  {
   "cell_type": "code",
   "execution_count": 87,
   "id": "bfcfa4cb-6046-4f8b-bc67-ca19bf504d26",
   "metadata": {},
   "outputs": [
    {
     "data": {
      "text/plain": [
       "<Axes: >"
      ]
     },
     "execution_count": 87,
     "metadata": {},
     "output_type": "execute_result"
    },
    {
     "data": {
      "image/png": "[encoded data removed]",
      "text/plain": [
       "<Figure size 640x480 with 1 Axes>"
      ]
     },
     "metadata": {},
     "output_type": "display_data"
    }
   ],
   "source": [
    "povertylevels.plot()"
   ]
  },
  {
   "cell_type": "code",
   "execution_count": 88,
   "id": "9001cccf-ea77-443c-bada-f5d0e67cb710",
   "metadata": {},
   "outputs": [
    {
     "name": "stdout",
     "output_type": "stream",
     "text": [
      "<class 'pandas.core.frame.DataFrame'>\n",
      "RangeIndex: 2495 entries, 0 to 2494\n",
      "Data columns (total 12 columns):\n",
      " #   Column            Non-Null Count  Dtype  \n",
      "---  ------            --------------  -----  \n",
      " 0   tract             2495 non-null   int64  \n",
      " 1   below_fpl         2495 non-null   int64  \n",
      " 2   below_200fpl      2495 non-null   int64  \n",
      " 3   fpl_universe      2495 non-null   int64  \n",
      " 4   below_fpl_pct     2471 non-null   float64\n",
      " 5   below_200fpl_pct  2495 non-null   float64\n",
      " 6   sup_dist          2495 non-null   object \n",
      " 7   csa               2495 non-null   object \n",
      " 8   spa               2495 non-null   object \n",
      " 9   ESRI_OID          2495 non-null   int64  \n",
      " 10  Shape__Area       2495 non-null   float64\n",
      " 11  Shape__Length     2495 non-null   float64\n",
      "dtypes: float64(4), int64(5), object(3)\n",
      "memory usage: 234.0+ KB\n"
     ]
    }
   ],
   "source": [
    "povertylevels.info()"
   ]
  },
  {
   "cell_type": "code",
   "execution_count": 89,
   "id": "d11a814a-63c0-49d6-a1c4-f04086076e2d",
   "metadata": {},
   "outputs": [
    {
     "data": {
      "text/html": [
       "<div>\n",
       "<style scoped>\n",
       "    .dataframe tbody tr th:only-of-type {\n",
       "        vertical-align: middle;\n",
       "    }\n",
       "\n",
       "    .dataframe tbody tr th {\n",
       "        vertical-align: top;\n",
       "    }\n",
       "\n",
       "    .dataframe thead th {\n",
       "        text-align: right;\n",
       "    }\n",
       "</style>\n",
       "<table border=\"1\" class=\"dataframe\">\n",
       "  <thead>\n",
       "    <tr style=\"text-align: right;\">\n",
       "      <th></th>\n",
       "      <th>below_fpl</th>\n",
       "      <th>below_200fpl</th>\n",
       "      <th>sup_dist</th>\n",
       "      <th>below_200fpl_pct</th>\n",
       "      <th>below_fpl_pct</th>\n",
       "    </tr>\n",
       "  </thead>\n",
       "  <tbody>\n",
       "    <tr>\n",
       "      <th>0</th>\n",
       "      <td>476</td>\n",
       "      <td>887</td>\n",
       "      <td>District 5</td>\n",
       "      <td>21.8</td>\n",
       "      <td>11.7</td>\n",
       "    </tr>\n",
       "    <tr>\n",
       "      <th>1</th>\n",
       "      <td>266</td>\n",
       "      <td>590</td>\n",
       "      <td>District 5</td>\n",
       "      <td>14.2</td>\n",
       "      <td>6.4</td>\n",
       "    </tr>\n",
       "    <tr>\n",
       "      <th>2</th>\n",
       "      <td>610</td>\n",
       "      <td>894</td>\n",
       "      <td>District 5</td>\n",
       "      <td>26.0</td>\n",
       "      <td>17.8</td>\n",
       "    </tr>\n",
       "    <tr>\n",
       "      <th>3</th>\n",
       "      <td>555</td>\n",
       "      <td>1351</td>\n",
       "      <td>District 5</td>\n",
       "      <td>34.8</td>\n",
       "      <td>14.3</td>\n",
       "    </tr>\n",
       "    <tr>\n",
       "      <th>4</th>\n",
       "      <td>356</td>\n",
       "      <td>942</td>\n",
       "      <td>District 5</td>\n",
       "      <td>36.7</td>\n",
       "      <td>13.9</td>\n",
       "    </tr>\n",
       "    <tr>\n",
       "      <th>...</th>\n",
       "      <td>...</td>\n",
       "      <td>...</td>\n",
       "      <td>...</td>\n",
       "      <td>...</td>\n",
       "      <td>...</td>\n",
       "    </tr>\n",
       "    <tr>\n",
       "      <th>2490</th>\n",
       "      <td>17</td>\n",
       "      <td>258</td>\n",
       "      <td>District 1</td>\n",
       "      <td>44.9</td>\n",
       "      <td>3.0</td>\n",
       "    </tr>\n",
       "    <tr>\n",
       "      <th>2491</th>\n",
       "      <td>39</td>\n",
       "      <td>67</td>\n",
       "      <td>District 1</td>\n",
       "      <td>11.1</td>\n",
       "      <td>6.4</td>\n",
       "    </tr>\n",
       "    <tr>\n",
       "      <th>2492</th>\n",
       "      <td>0</td>\n",
       "      <td>0</td>\n",
       "      <td>District 2</td>\n",
       "      <td>0.0</td>\n",
       "      <td>NaN</td>\n",
       "    </tr>\n",
       "    <tr>\n",
       "      <th>2493</th>\n",
       "      <td>0</td>\n",
       "      <td>0</td>\n",
       "      <td>District 2</td>\n",
       "      <td>0.0</td>\n",
       "      <td>NaN</td>\n",
       "    </tr>\n",
       "    <tr>\n",
       "      <th>2494</th>\n",
       "      <td>0</td>\n",
       "      <td>0</td>\n",
       "      <td>District 5</td>\n",
       "      <td>0.0</td>\n",
       "      <td>NaN</td>\n",
       "    </tr>\n",
       "  </tbody>\n",
       "</table>\n",
       "<p>2495 rows × 5 columns</p>\n",
       "</div>"
      ],
      "text/plain": [
       "      below_fpl  below_200fpl    sup_dist  below_200fpl_pct  below_fpl_pct\n",
       "0           476           887  District 5              21.8           11.7\n",
       "1           266           590  District 5              14.2            6.4\n",
       "2           610           894  District 5              26.0           17.8\n",
       "3           555          1351  District 5              34.8           14.3\n",
       "4           356           942  District 5              36.7           13.9\n",
       "...         ...           ...         ...               ...            ...\n",
       "2490         17           258  District 1              44.9            3.0\n",
       "2491         39            67  District 1              11.1            6.4\n",
       "2492          0             0  District 2               0.0            NaN\n",
       "2493          0             0  District 2               0.0            NaN\n",
       "2494          0             0  District 5               0.0            NaN\n",
       "\n",
       "[2495 rows x 5 columns]"
      ]
     },
     "execution_count": 89,
     "metadata": {},
     "output_type": "execute_result"
    }
   ],
   "source": [
    "povertylevels[['below_fpl','below_200fpl','sup_dist','below_200fpl_pct','below_fpl_pct']]"
   ]
  },
  {
   "cell_type": "code",
   "execution_count": 90,
   "id": "e71889d8-bef7-4cd9-8e49-e6ddbf3cba7b",
   "metadata": {},
   "outputs": [],
   "source": [
    "# list of desired column names\n",
    "desired_columns = ['BELOW','200FPL','DISTRICT']"
   ]
  },
  {
   "cell_type": "code",
   "execution_count": 2,
   "id": "3bef3856-a719-45a9-8b2b-f87f0c5433cf",
   "metadata": {},
   "outputs": [],
   "source": [
    "import pandas as pd \n"
   ]
  },
  {
   "cell_type": "code",
   "execution_count": null,
   "id": "4c1478cc-f61c-4b8e-b0db-5803c2849459",
   "metadata": {},
   "outputs": [],
   "source": []
  }
 ],
 "metadata": {
  "kernelspec": {
   "display_name": "Python [conda env:base] *",
   "language": "python",
   "name": "conda-base-py"
  },
  "language_info": {
   "codemirror_mode": {
    "name": "ipython",
    "version": 3
   },
   "file_extension": ".py",
   "mimetype": "text/x-python",
   "name": "python",
   "nbconvert_exporter": "python",
   "pygments_lexer": "ipython3",
   "version": "3.13.5"
  }
 },
 "nbformat": 4,
 "nbformat_minor": 5
}
